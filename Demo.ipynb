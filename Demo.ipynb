{
 "cells": [
  {
   "cell_type": "code",
   "execution_count": 2,
   "metadata": {},
   "outputs": [],
   "source": [
    "import CraigsLib as cl"
   ]
  },
  {
   "cell_type": "code",
   "execution_count": 3,
   "metadata": {},
   "outputs": [
    {
     "name": "stdout",
     "output_type": "stream",
     "text": [
      "[{'title': 'Wilderness Therapy Field Instructor', 'link': 'https://atlanta.craigslist.org/nat/edu/d/clayton-wilderness-therapy-field/7111115060.html', 'time': '2020-04-20 12:27', 'description': \"\\n\\nQR Code Link to This Post\\n\\n\\nField Instructor\\nReports to: Field Director\\nDescription:\\nNew Vision Wilderness (NVW) is an effective and exciting alternative for struggling teens, young adults, and their families, and is the premier wilderness therapy intervention. We are consistently challenging the national therapy frontier. NVW is the home of cutting-edge trauma-informed care & wilderness intervention.\\nNVW is currently seeking applicants for Full Time Wilderness Instructors at our Clayton, GA location, ensuring a safe and therapeutic milieu in a wilderness context for our groups of struggling teens and young adults. Wilderness Instructors are responsible for groups of up to nine students on backpacking outdoor expeditions and will work 8 days straight in the Northern Georgia wilderness (8-day on/6-day off schedule). Instructors are in charge of group structure, supervision, safety, curriculum facilitation, teaching wilderness skills, and will be working hand in hand with NVW therapists who treat our clients. This position will work in all facets of NVW programming; Adolescent Immersion, Young Adult, Family Services, and Academics.\\nResponsibilities:\\nWilderness Instructors are responsible for day to day facilitation of programming, including; risk management, implementation of program philosophy, student supervision, leadership and responsible decision making, communication and the overall care and welfare of up to 9 students in a wilderness context. Responsibilities include direct care and supervision, completion of daily paperwork, weekly planning of group activities, and logistical duties. Any other duties as defined by the Field Directors.\\nRequirements:\\n•\\tWilderness Instructor must be at least 21 years old and a BS/BA degree in related field is preferred.\\n•\\tMinimum of 1 year experience working in the adventure or outdoor field with at-risk youth, or comparable experience.\\n•\\tExcellent leadership, communication and problem solving skills.\\n•\\tMust possess and maintain current First Aid and CPR certification (WFR preferred)\\n•\\tAbility to lift and carry 50+ pounds for extended duration's\\n•\\tMust be able to pass a Background Criminal Investigation with Oregon DHS\\n•\\tMust hold a valid Driver's License with clean driving record. \\nSalary/benefits:\\nCompetitive salary commensurate with experience. Paid Vacation. Group health, vision, and/or dental insurance options available to full time employees on the first day of the month after 60 days of employment. NVW contributes 50% of the medical insurance premium for the employee. NVW provides full time employees with an employee assistance plan, short term disability coverage and Life Insurance. Annual training stipend, performance-based wage incentive and opportunities for advancement and pro-deals. NVW provides training and a friendly and challenging work environment.\\n\\nTo Apply:\\nhttps://newvisionwilderness.applicantpro.com/jobs/1014653.html\\n\", 'location': ''}, {'title': 'Activities Assistant', 'link': 'https://atlanta.craigslist.org/nat/edu/d/lawrenceville-activities-assistant/7108479244.html', 'time': '2020-04-15 03:38', 'description': '\\n\\nQR Code Link to This Post\\n\\n\\nWHAT ARE THE DETAILS?', 'location': '4315 Johns Creek Pkwy'}]\n"
     ]
    }
   ],
   "source": [
    "# Looking for coding tutoring gigs in the Atlanta area.\n",
    "url_base = 'https://atlanta.craigslist.org/search/edu?query='\n",
    "url = url_base + 'programming'\n",
    "print(cl.get_cl_posts(url))"
   ]
  },
  {
   "cell_type": "code",
   "execution_count": 4,
   "metadata": {},
   "outputs": [
    {
     "name": "stdout",
     "output_type": "stream",
     "text": [
      "{'link': 'https://atlanta.craigslist.org/nat/ats/d/roswell-pawg-model-needed/7107656628.html', 'title': 'PAWG model needed', 'time': '2020-04-13T13:46:57-0400', 'description': \"\\n\\nQR Code Link to This Post\\n\\n\\nExperienced photographer in need of local PAWG model.  This is a paid project; however no experience is required so all interested models should reply.  Please include at least one photo that highlights your shape and I'd love to know what you enjoy the most about being a PAWG as well.  This will be a daytime shoot so please make sure you have availability on at least one week day between 11-1.    \", 'location': ''}\n",
      "{'link': 'https://atlanta.craigslist.org/eat/rnr/d/michael-strange/7108566057.html', 'title': 'Michael strange', 'time': '2020-04-15T10:38:37-0400', 'description': '\\n\\nQR Code Link to This Post\\n\\n\\nMichael is a very dishonest person he can not be trusted,he will lie to your face \\nI dealt with Michael and I found him to be untrustworthy dishonest and has no regard for other people DO NOT do business with this person, I would say don’t do business with this man but he is NO man he’s a lying cheating untrustworthy PERSON. WATCH YOUR BACK    ', 'location': ''}\n"
     ]
    }
   ],
   "source": [
    "# Reading some very classy individual's opinions.\n",
    "print(cl.get_post('https://atlanta.craigslist.org/nat/ats/d/roswell-pawg-model-needed/7107656628.html'))\n",
    "print(cl.get_post('https://atlanta.craigslist.org/eat/rnr/d/michael-strange/7108566057.html'))"
   ]
  },
  {
   "cell_type": "code",
   "execution_count": null,
   "metadata": {},
   "outputs": [],
   "source": []
  }
 ],
 "metadata": {
  "kernelspec": {
   "display_name": "Python 3",
   "language": "python",
   "name": "python3"
  },
  "language_info": {
   "codemirror_mode": {
    "name": "ipython",
    "version": 3
   },
   "file_extension": ".py",
   "mimetype": "text/x-python",
   "name": "python",
   "nbconvert_exporter": "python",
   "pygments_lexer": "ipython3",
   "version": "3.7.3"
  }
 },
 "nbformat": 4,
 "nbformat_minor": 4
}
